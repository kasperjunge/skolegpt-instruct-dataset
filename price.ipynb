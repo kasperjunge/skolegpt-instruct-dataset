{
 "cells": [
  {
   "cell_type": "code",
   "execution_count": 3,
   "metadata": {},
   "outputs": [
    {
     "name": "stdout",
     "output_type": "stream",
     "text": [
      "5\n",
      "4.828730512249443\n"
     ]
    }
   ],
   "source": [
    "# Chars per token\n",
    "chars = 21681\n",
    "tokens = 4490\n",
    "char_pr_token_estimate = chars/tokens\n",
    "char_pr_token = 5\n",
    "print(char_pr_token)\n",
    "print(char_pr_token_estimate)"
   ]
  },
  {
   "cell_type": "code",
   "execution_count": 4,
   "metadata": {},
   "outputs": [],
   "source": [
    "# all prices per token\n",
    "gpt4_in = 0.01 / 1000\n",
    "gpt4_out = 0.03 / 1000\n",
    "gpt3_in = 0.0010 / 1000\n",
    "gpt3_out = 0.0020 / 1000\n",
    "\n",
    "deepl = (21.90 / char_pr_token) / 1000000"
   ]
  },
  {
   "cell_type": "code",
   "execution_count": 5,
   "metadata": {},
   "outputs": [],
   "source": [
    "# price for n tokens\n",
    "n_tokens = 3638472 #10000000\n",
    "gpt4_price = (gpt4_in*n_tokens) + (gpt4_out*n_tokens)\n",
    "gpt3_price = (gpt3_in*n_tokens) + (gpt3_out*n_tokens)\n",
    "deepl_price = deepl*n_tokens\n"
   ]
  },
  {
   "cell_type": "code",
   "execution_count": 6,
   "metadata": {},
   "outputs": [
    {
     "name": "stdout",
     "output_type": "stream",
     "text": [
      "145.53888\n",
      "10.915415999999999\n",
      "15.936507359999998\n"
     ]
    }
   ],
   "source": [
    "print(gpt4_price)\n",
    "print(gpt3_price)\n",
    "print(deepl_price)"
   ]
  },
  {
   "cell_type": "code",
   "execution_count": null,
   "metadata": {},
   "outputs": [],
   "source": []
  }
 ],
 "metadata": {
  "kernelspec": {
   "display_name": ".venv",
   "language": "python",
   "name": "python3"
  },
  "language_info": {
   "codemirror_mode": {
    "name": "ipython",
    "version": 3
   },
   "file_extension": ".py",
   "mimetype": "text/x-python",
   "name": "python",
   "nbconvert_exporter": "python",
   "pygments_lexer": "ipython3",
   "version": "3.11.6"
  }
 },
 "nbformat": 4,
 "nbformat_minor": 2
}
