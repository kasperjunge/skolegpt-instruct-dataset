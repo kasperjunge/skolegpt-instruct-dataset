{
 "cells": [
  {
   "cell_type": "markdown",
   "metadata": {},
   "source": [
    "# Development"
   ]
  },
  {
   "cell_type": "code",
   "execution_count": 1,
   "metadata": {},
   "outputs": [],
   "source": [
    "%load_ext autoreload"
   ]
  },
  {
   "cell_type": "code",
   "execution_count": 2,
   "metadata": {},
   "outputs": [
    {
     "name": "stderr",
     "output_type": "stream",
     "text": [
      "/Users/kasperjunge/projects/skolegpt-instruct-dataset/.venv/lib/python3.11/site-packages/tqdm/auto.py:21: TqdmWarning: IProgress not found. Please update jupyter and ipywidgets. See https://ipywidgets.readthedocs.io/en/stable/user_install.html\n",
      "  from .autonotebook import tqdm as notebook_tqdm\n"
     ]
    }
   ],
   "source": [
    "%autoreload\n",
    "import pathlib\n",
    "import polars as pl\n",
    "from skolegpt_instruct_dataset.data import get_data\n",
    "from skolegpt_instruct_dataset.preprocess import preprocess_data\n",
    "from skolegpt_instruct_dataset.utils import sample_and_print_example, analyse_pre_and_postfixes\n",
    "from skolegpt_instruct_dataset.config import config"
   ]
  },
  {
   "cell_type": "markdown",
   "metadata": {},
   "source": [
    "# Parameters"
   ]
  },
  {
   "cell_type": "code",
   "execution_count": 3,
   "metadata": {},
   "outputs": [],
   "source": [
    "cache_file = pathlib.Path(\"orca_sample.parquet\")\n",
    "use_cache = True"
   ]
  },
  {
   "cell_type": "markdown",
   "metadata": {},
   "source": [
    "# Get Data"
   ]
  },
  {
   "cell_type": "code",
   "execution_count": 4,
   "metadata": {},
   "outputs": [
    {
     "data": {
      "text/html": [
       "<div><style>\n",
       ".dataframe > thead > tr,\n",
       ".dataframe > tbody > tr {\n",
       "  text-align: right;\n",
       "  white-space: pre-wrap;\n",
       "}\n",
       "</style>\n",
       "<small>shape: (5, 5)</small><table border=\"1\" class=\"dataframe\"><thead><tr><th>id</th><th>system_prompt</th><th>question</th><th>response</th><th>source</th></tr><tr><td>str</td><td>str</td><td>str</td><td>str</td><td>str</td></tr></thead><tbody><tr><td>&quot;cot.47001&quot;</td><td>&quot;You are an AI …</td><td>&quot;Question: Whic…</td><td>&quot;Sure, I&#x27;d be h…</td><td>&quot;cot&quot;</td></tr><tr><td>&quot;t0.1981815&quot;</td><td>&quot;You are an AI …</td><td>&quot;Read the bio b…</td><td>&quot;- Instrument: …</td><td>&quot;t0&quot;</td></tr><tr><td>&quot;flan.1484600&quot;</td><td>&quot;You are an AI …</td><td>&quot;Determine if t…</td><td>&quot;The sentence &quot;…</td><td>&quot;flan&quot;</td></tr><tr><td>&quot;t0.750125&quot;</td><td>&quot;You are an AI …</td><td>&quot;Question: cats…</td><td>&quot;The correct an…</td><td>&quot;t0&quot;</td></tr><tr><td>&quot;t0.1336221&quot;</td><td>&quot;You are an AI …</td><td>&quot;Answer the fol…</td><td>&quot;This product r…</td><td>&quot;t0&quot;</td></tr></tbody></table></div>"
      ],
      "text/plain": [
       "shape: (5, 5)\n",
       "┌──────────────┬─────────────────────┬──────────────────────────┬─────────────────────────┬────────┐\n",
       "│ id           ┆ system_prompt       ┆ question                 ┆ response                ┆ source │\n",
       "│ ---          ┆ ---                 ┆ ---                      ┆ ---                     ┆ ---    │\n",
       "│ str          ┆ str                 ┆ str                      ┆ str                     ┆ str    │\n",
       "╞══════════════╪═════════════════════╪══════════════════════════╪═════════════════════════╪════════╡\n",
       "│ cot.47001    ┆ You are an AI       ┆ Question: Which of the   ┆ Sure, I'd be happy to   ┆ cot    │\n",
       "│              ┆ assistant that hel… ┆ following…               ┆ help you w…             ┆        │\n",
       "│ t0.1981815   ┆ You are an AI       ┆ Read the bio below and   ┆ - Instrument: Trumpet   ┆ t0     │\n",
       "│              ┆ assistant that fol… ┆ try to gi…               ┆ - Years ac…             ┆        │\n",
       "│ flan.1484600 ┆ You are an AI       ┆ Determine if the         ┆ The sentence \"John's    ┆ flan   │\n",
       "│              ┆ assistant. You wil… ┆ sentence is tru…         ┆ manuscript …            ┆        │\n",
       "│ t0.750125    ┆ You are an AI       ┆ Question: cats have how  ┆ The correct answer is   ┆ t0     │\n",
       "│              ┆ assistant. User wi… ┆ many ape…                ┆ \"four legs…             ┆        │\n",
       "│ t0.1336221   ┆ You are an AI       ┆ Answer the following     ┆ This product review     ┆ t0     │\n",
       "│              ┆ assistant. Provide… ┆ question: T…             ┆ conveys a po…           ┆        │\n",
       "└──────────────┴─────────────────────┴──────────────────────────┴─────────────────────────┴────────┘"
      ]
     },
     "execution_count": 4,
     "metadata": {},
     "output_type": "execute_result"
    }
   ],
   "source": [
    "%autoreload\n",
    "\n",
    "# get external data or load cached data\n",
    "if cache_file.is_file() & use_cache:\n",
    "    df = pl.read_parquet(cache_file)\n",
    "else:\n",
    "    df = get_data(n_max=config.n_max)\n",
    "df.head()"
   ]
  },
  {
   "cell_type": "code",
   "execution_count": null,
   "metadata": {},
   "outputs": [],
   "source": []
  },
  {
   "cell_type": "markdown",
   "metadata": {},
   "source": [
    "# Preprocess Data"
   ]
  },
  {
   "cell_type": "code",
   "execution_count": 7,
   "metadata": {},
   "outputs": [
    {
     "name": "stdout",
     "output_type": "stream",
     "text": [
      "90000\n"
     ]
    },
    {
     "data": {
      "text/html": [
       "<div><style>\n",
       ".dataframe > thead > tr,\n",
       ".dataframe > tbody > tr {\n",
       "  text-align: right;\n",
       "  white-space: pre-wrap;\n",
       "}\n",
       "</style>\n",
       "<small>shape: (5, 5)</small><table border=\"1\" class=\"dataframe\"><thead><tr><th>id</th><th>system_prompt</th><th>question</th><th>response</th><th>source</th></tr><tr><td>str</td><td>str</td><td>str</td><td>str</td><td>str</td></tr></thead><tbody><tr><td>&quot;flan.81333&quot;</td><td>&quot;You are an AI …</td><td>&quot;Gordon McKay i…</td><td>&quot;Yes, these two…</td><td>&quot;flan&quot;</td></tr><tr><td>&quot;flan.2293314&quot;</td><td>&quot;You are an AI …</td><td>&quot;Select your an…</td><td>&quot;This is about …</td><td>&quot;flan&quot;</td></tr><tr><td>&quot;flan.1012603&quot;</td><td>&quot;You are an AI …</td><td>&quot;Write a senten…</td><td>&quot;The bear is sl…</td><td>&quot;flan&quot;</td></tr><tr><td>&quot;flan.182682&quot;</td><td>&quot;You are an AI …</td><td>&quot;How does the s…</td><td>&quot;the two friend…</td><td>&quot;flan&quot;</td></tr><tr><td>&quot;flan.1974845&quot;</td><td>&quot;You are an AI …</td><td>&quot;Article: This …</td><td>&quot;The article de…</td><td>&quot;flan&quot;</td></tr></tbody></table></div>"
      ],
      "text/plain": [
       "shape: (5, 5)\n",
       "┌──────────────┬─────────────────────┬──────────────────────────┬─────────────────────────┬────────┐\n",
       "│ id           ┆ system_prompt       ┆ question                 ┆ response                ┆ source │\n",
       "│ ---          ┆ ---                 ┆ ---                      ┆ ---                     ┆ ---    │\n",
       "│ str          ┆ str                 ┆ str                      ┆ str                     ┆ str    │\n",
       "╞══════════════╪═════════════════════╪══════════════════════════╪═════════════════════════╪════════╡\n",
       "│ flan.81333   ┆ You are an AI       ┆ Gordon McKay is Evelyn   ┆ Yes, these two          ┆ flan   │\n",
       "│              ┆ assistant. You wil… ┆ L. Hu Pro…               ┆ sentences are par…      ┆        │\n",
       "│ flan.2293314 ┆ You are an AI       ┆ Select your answer:      ┆ This is about Business. ┆ flan   │\n",
       "│              ┆ assistant. User wi… ┆ Which is thi…            ┆                         ┆        │\n",
       "│ flan.1012603 ┆ You are an AI       ┆ Write a sentence about   ┆ The bear is sleeping    ┆ flan   │\n",
       "│              ┆ assistant. User wi… ┆ the follo…               ┆ peacefully …            ┆        │\n",
       "│ flan.182682  ┆ You are an AI       ┆ How does the sentence    ┆ the two friends decided ┆ flan   │\n",
       "│              ┆ assistant. User wi… ┆ end?                     ┆ to compr…               ┆        │\n",
       "│              ┆                     ┆                          ┆                         ┆        │\n",
       "│              ┆                     ┆ Sinc…                    ┆                         ┆        │\n",
       "│ flan.1974845 ┆ You are an AI       ┆ Article: This move is a  ┆ The article describes   ┆ flan   │\n",
       "│              ┆ assistant. User wi… ┆ great le…                ┆ an exercis…             ┆        │\n",
       "└──────────────┴─────────────────────┴──────────────────────────┴─────────────────────────┴────────┘"
      ]
     },
     "execution_count": 7,
     "metadata": {},
     "output_type": "execute_result"
    }
   ],
   "source": [
    "%autoreload\n",
    "df = preprocess_data(\n",
    "    df=df, \n",
    "    n_total=config.n_total, \n",
    "    instruction_sources=config.instruction_sources,\n",
    "    common_postfixes=config.common_postfixes, \n",
    "    common_prefixes=config.common_prefixes, \n",
    "    seed=config.seed\n",
    ")\n",
    "print(len(df))\n",
    "df.head()"
   ]
  },
  {
   "cell_type": "code",
   "execution_count": 10,
   "metadata": {},
   "outputs": [],
   "source": []
  },
  {
   "cell_type": "markdown",
   "metadata": {},
   "source": [
    "# Experimental"
   ]
  },
  {
   "cell_type": "code",
   "execution_count": 166,
   "metadata": {},
   "outputs": [
    {
     "name": "stdout",
     "output_type": "stream",
     "text": [
      "ID\n",
      "cot.38806\n",
      "\n",
      "SYSTEM PROMPT:\n",
      "\n",
      "You are an AI assistant that helps people find information. Provide a\n",
      "detailed answer so user don’t need to search outside to understand the\n",
      "answer.\n",
      "\n",
      "QUESTION:\n",
      "\n",
      "Can we conclude from \"Children wear soccer uniforms.\" that \"Children\n",
      "are on a school bus.\"? Options: - yes - no - it is not possible to\n",
      "tell Stream of thoughts:\n",
      "\n",
      "RESPONSE:\n",
      "\n",
      "No, we cannot conclude that \"Children are on a school bus\" from the\n",
      "statement \"Children wear soccer uniforms.\" The statement only tells us\n",
      "that children wear soccer uniforms, but it does not provide any\n",
      "information about their location or activity. Therefore, it is not\n",
      "possible to tell whether they are on a school bus or not.\n"
     ]
    }
   ],
   "source": [
    "sample_and_print_example(df)"
   ]
  },
  {
   "cell_type": "code",
   "execution_count": 110,
   "metadata": {},
   "outputs": [
    {
     "name": "stdout",
     "output_type": "stream",
     "text": [
      "--- Prefixes ---\n",
      "Normalized Freq. 0.0% | Freq.: 0 | Term: 'Question:' \n",
      "Normalized Freq. 0.0% | Freq.: 0 | Term: 'Definition:' \n",
      "Normalized Freq. 0.0% | Freq.: 0 | Term: 'Detailed Instructions:' \n",
      "Normalized Freq. 0.0% | Freq.: 0 | Term: 'Instructions:' \n",
      "Normalized Freq. 0.0% | Freq.: 0 | Term: 'Q:' \n",
      "Normalized Freq. 0.0% | Freq.: 0 | Term: 'Teacher:' \n",
      "Normalized Freq. 1.00222% | Freq.: 902 | Term: 'Student:' \n",
      "Normalized Freq. 0.31556% | Freq.: 284 | Term: 'Write a sentence not in English.' \n",
      "Normalized Freq. 1.12444% | Freq.: 1012 | Term: 'Denny asked:' \n",
      "\n",
      "--- Postfixes ---\n",
      "Normalized Freq. 0.0% | Freq.: 0 | Term: 'Answer:' \n",
      "Normalized Freq. 0.0% | Freq.: 0 | Term: 'Solution:' \n",
      "Normalized Freq. 0.0% | Freq.: 0 | Term: 'A:' \n",
      "Normalized Freq. 0.0% | Freq.: 0 | Term: 'Output:' \n",
      "Normalized Freq. 0.0% | Freq.: 0 | Term: 'Teacher:' \n",
      "Normalized Freq. 0.0% | Freq.: 0 | Term: 'Student:' \n",
      "Normalized Freq. 1.07778% | Freq.: 970 | Term: 'Stream of thoughts:' \n",
      "Normalized Freq. 1.72333% | Freq.: 1551 | Term: 'Step-by-step reasoning:' \n",
      "Normalized Freq. 0.37444% | Freq.: 337 | Term: 'Chain-of-thought:' \n",
      "Normalized Freq. 0.10333% | Freq.: 93 | Term: 'Let's think first:' \n",
      "Normalized Freq. 0.04556% | Freq.: 41 | Term: 'The thinking starts now:' \n",
      "Normalized Freq. 0.44222% | Freq.: 398 | Term: 'Stream of consciousness:' \n",
      "Normalized Freq. 0.0% | Freq.: 0 | Term: 'Which language is this?' \n",
      "Normalized Freq. 0.2% | Freq.: 180 | Term: 'Please think gradually:' \n",
      "Normalized Freq. 3.29889% | Freq.: 2969 | Term: 'The answer is:' \n",
      "Normalized Freq. 1.11556% | Freq.: 1004 | Term: 'Me:' \n"
     ]
    }
   ],
   "source": [
    "%autoreload\n",
    "analyse_pre_and_postfixes(df)"
   ]
  },
  {
   "cell_type": "code",
   "execution_count": 140,
   "metadata": {},
   "outputs": [],
   "source": [
    "# TODO næste gang:\n",
    "# - Fjern multiple choice\n",
    "# - Fjern tekster med ikke-engelske chars\n",
    "# - Fjern flere dumme pre/postfixes"
   ]
  },
  {
   "cell_type": "code",
   "execution_count": null,
   "metadata": {},
   "outputs": [],
   "source": []
  }
 ],
 "metadata": {
  "kernelspec": {
   "display_name": ".venv",
   "language": "python",
   "name": "python3"
  },
  "language_info": {
   "codemirror_mode": {
    "name": "ipython",
    "version": 3
   },
   "file_extension": ".py",
   "mimetype": "text/x-python",
   "name": "python",
   "nbconvert_exporter": "python",
   "pygments_lexer": "ipython3",
   "version": "3.11.6"
  }
 },
 "nbformat": 4,
 "nbformat_minor": 2
}
