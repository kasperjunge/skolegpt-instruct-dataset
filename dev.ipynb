{
 "cells": [
  {
   "cell_type": "markdown",
   "metadata": {},
   "source": [
    "# Development"
   ]
  },
  {
   "cell_type": "code",
   "execution_count": 1,
   "metadata": {},
   "outputs": [],
   "source": [
    "%load_ext autoreload"
   ]
  },
  {
   "cell_type": "code",
   "execution_count": 2,
   "metadata": {},
   "outputs": [
    {
     "name": "stderr",
     "output_type": "stream",
     "text": [
      "/Users/kasperjunge/projects/skolegpt-instruct-dataset/.venv/lib/python3.11/site-packages/tqdm/auto.py:21: TqdmWarning: IProgress not found. Please update jupyter and ipywidgets. See https://ipywidgets.readthedocs.io/en/stable/user_install.html\n",
      "  from .autonotebook import tqdm as notebook_tqdm\n"
     ]
    }
   ],
   "source": [
    "%autoreload\n",
    "import pathlib\n",
    "import polars as pl\n",
    "from skolegpt_instruct_dataset.data import get_data\n",
    "from skolegpt_instruct_dataset.preprocess import preprocess_data\n",
    "from skolegpt_instruct_dataset.utils import sample_and_print_example, analyse_pre_and_postfixes\n",
    "from skolegpt_instruct_dataset.config import config"
   ]
  },
  {
   "cell_type": "markdown",
   "metadata": {},
   "source": [
    "# Parameters"
   ]
  },
  {
   "cell_type": "code",
   "execution_count": 3,
   "metadata": {},
   "outputs": [],
   "source": [
    "cache_file = pathlib.Path(\"orca_sample.parquet\")\n",
    "use_cache = True"
   ]
  },
  {
   "cell_type": "markdown",
   "metadata": {},
   "source": [
    "# Get Data"
   ]
  },
  {
   "cell_type": "code",
   "execution_count": 4,
   "metadata": {},
   "outputs": [
    {
     "data": {
      "text/html": [
       "<div><style>\n",
       ".dataframe > thead > tr,\n",
       ".dataframe > tbody > tr {\n",
       "  text-align: right;\n",
       "  white-space: pre-wrap;\n",
       "}\n",
       "</style>\n",
       "<small>shape: (5, 5)</small><table border=\"1\" class=\"dataframe\"><thead><tr><th>id</th><th>system_prompt</th><th>question</th><th>response</th><th>source</th></tr><tr><td>str</td><td>str</td><td>str</td><td>str</td><td>str</td></tr></thead><tbody><tr><td>&quot;cot.47001&quot;</td><td>&quot;You are an AI …</td><td>&quot;Question: Whic…</td><td>&quot;Sure, I&#x27;d be h…</td><td>&quot;cot&quot;</td></tr><tr><td>&quot;t0.1981815&quot;</td><td>&quot;You are an AI …</td><td>&quot;Read the bio b…</td><td>&quot;- Instrument: …</td><td>&quot;t0&quot;</td></tr><tr><td>&quot;flan.1484600&quot;</td><td>&quot;You are an AI …</td><td>&quot;Determine if t…</td><td>&quot;The sentence &quot;…</td><td>&quot;flan&quot;</td></tr><tr><td>&quot;t0.750125&quot;</td><td>&quot;You are an AI …</td><td>&quot;Question: cats…</td><td>&quot;The correct an…</td><td>&quot;t0&quot;</td></tr><tr><td>&quot;t0.1336221&quot;</td><td>&quot;You are an AI …</td><td>&quot;Answer the fol…</td><td>&quot;This product r…</td><td>&quot;t0&quot;</td></tr></tbody></table></div>"
      ],
      "text/plain": [
       "shape: (5, 5)\n",
       "┌──────────────┬─────────────────────┬──────────────────────────┬─────────────────────────┬────────┐\n",
       "│ id           ┆ system_prompt       ┆ question                 ┆ response                ┆ source │\n",
       "│ ---          ┆ ---                 ┆ ---                      ┆ ---                     ┆ ---    │\n",
       "│ str          ┆ str                 ┆ str                      ┆ str                     ┆ str    │\n",
       "╞══════════════╪═════════════════════╪══════════════════════════╪═════════════════════════╪════════╡\n",
       "│ cot.47001    ┆ You are an AI       ┆ Question: Which of the   ┆ Sure, I'd be happy to   ┆ cot    │\n",
       "│              ┆ assistant that hel… ┆ following…               ┆ help you w…             ┆        │\n",
       "│ t0.1981815   ┆ You are an AI       ┆ Read the bio below and   ┆ - Instrument: Trumpet   ┆ t0     │\n",
       "│              ┆ assistant that fol… ┆ try to gi…               ┆ - Years ac…             ┆        │\n",
       "│ flan.1484600 ┆ You are an AI       ┆ Determine if the         ┆ The sentence \"John's    ┆ flan   │\n",
       "│              ┆ assistant. You wil… ┆ sentence is tru…         ┆ manuscript …            ┆        │\n",
       "│ t0.750125    ┆ You are an AI       ┆ Question: cats have how  ┆ The correct answer is   ┆ t0     │\n",
       "│              ┆ assistant. User wi… ┆ many ape…                ┆ \"four legs…             ┆        │\n",
       "│ t0.1336221   ┆ You are an AI       ┆ Answer the following     ┆ This product review     ┆ t0     │\n",
       "│              ┆ assistant. Provide… ┆ question: T…             ┆ conveys a po…           ┆        │\n",
       "└──────────────┴─────────────────────┴──────────────────────────┴─────────────────────────┴────────┘"
      ]
     },
     "execution_count": 4,
     "metadata": {},
     "output_type": "execute_result"
    }
   ],
   "source": [
    "%autoreload\n",
    "\n",
    "# get external data or load cached data\n",
    "if cache_file.is_file() & use_cache:\n",
    "    df = pl.read_parquet(cache_file)\n",
    "else:\n",
    "    df = get_data(n_max=config.n_max)\n",
    "df.head()"
   ]
  },
  {
   "cell_type": "code",
   "execution_count": null,
   "metadata": {},
   "outputs": [],
   "source": []
  },
  {
   "cell_type": "markdown",
   "metadata": {},
   "source": [
    "# Preprocess Data"
   ]
  },
  {
   "cell_type": "code",
   "execution_count": 7,
   "metadata": {},
   "outputs": [],
   "source": [
    "%autoreload\n",
    "df = preprocess_data(\n",
    "    df=df, \n",
    "    n_total=config.n_total, \n",
    "    instruction_sources=config.instruction_sources,\n",
    "    common_postfixes=config.common_postfixes, \n",
    "    common_prefixes=config.common_prefixes, \n",
    "    seed=config.seed\n",
    ")\n",
    "print(len(df))\n",
    "df.head()"
   ]
  },
  {
   "cell_type": "markdown",
   "metadata": {},
   "source": [
    "# Experimental"
   ]
  },
  {
   "cell_type": "code",
   "execution_count": null,
   "metadata": {},
   "outputs": [],
   "source": [
    "analyse_pre_and_postfixes(df)"
   ]
  }
 ],
 "metadata": {
  "kernelspec": {
   "display_name": ".venv",
   "language": "python",
   "name": "python3"
  },
  "language_info": {
   "codemirror_mode": {
    "name": "ipython",
    "version": 3
   },
   "file_extension": ".py",
   "mimetype": "text/x-python",
   "name": "python",
   "nbconvert_exporter": "python",
   "pygments_lexer": "ipython3",
   "version": "3.11.6"
  }
 },
 "nbformat": 4,
 "nbformat_minor": 2
}
