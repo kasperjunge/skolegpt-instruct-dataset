{
 "cells": [
  {
   "cell_type": "code",
   "execution_count": 1,
   "metadata": {},
   "outputs": [],
   "source": [
    "%load_ext autoreload"
   ]
  },
  {
   "cell_type": "code",
   "execution_count": null,
   "metadata": {},
   "outputs": [],
   "source": []
  },
  {
   "cell_type": "code",
   "execution_count": 119,
   "metadata": {},
   "outputs": [],
   "source": [
    "import polars as pl\n",
    "from skolegpt_instruct_dataset.config import config \n",
    "from skolegpt_instruct_dataset.filtering import remove_duplicate_questions_and_responses\n",
    "df = pl.read_parquet(config.data_dir / config.stratified_dataset_file_name)"
   ]
  },
  {
   "cell_type": "code",
   "execution_count": 122,
   "metadata": {},
   "outputs": [
    {
     "data": {
      "text/html": [
       "<div><style>\n",
       ".dataframe > thead > tr,\n",
       ".dataframe > tbody > tr {\n",
       "  text-align: right;\n",
       "  white-space: pre-wrap;\n",
       "}\n",
       "</style>\n",
       "<small>shape: (90_000, 5)</small><table border=\"1\" class=\"dataframe\"><thead><tr><th>id</th><th>system_prompt</th><th>question</th><th>response</th><th>source</th></tr><tr><td>str</td><td>str</td><td>str</td><td>str</td><td>str</td></tr></thead><tbody><tr><td>&quot;cot.9768&quot;</td><td>&quot;You are an AI …</td><td>&quot;Stream of cons…</td><td>&quot;Question: Can …</td><td>&quot;cot&quot;</td></tr><tr><td>&quot;cot.119533&quot;</td><td>&quot;You are an AI …</td><td>&quot;Premise: &quot;A ma…</td><td>&quot;The premise de…</td><td>&quot;cot&quot;</td></tr><tr><td>&quot;cot.54006&quot;</td><td>&quot;You are an AI …</td><td>&quot;Leo: Premise: …</td><td>&quot;Based on the i…</td><td>&quot;cot&quot;</td></tr><tr><td>&quot;cot.120822&quot;</td><td>&quot;You are an AI …</td><td>&quot;Premise: &quot;A ma…</td><td>&quot;The hypothesis…</td><td>&quot;cot&quot;</td></tr><tr><td>&quot;cot.139399&quot;</td><td>&quot;You are an AI …</td><td>&quot;Premise: &quot;The …</td><td>&quot;Yes, the hypot…</td><td>&quot;cot&quot;</td></tr><tr><td>&quot;cot.24910&quot;</td><td>&quot;You are an AI …</td><td>&quot;Stream of cons…</td><td>&quot;Question: What…</td><td>&quot;cot&quot;</td></tr><tr><td>&quot;cot.16473&quot;</td><td>&quot;You are an AI …</td><td>&quot;Given the sent…</td><td>&quot;Based on the s…</td><td>&quot;cot&quot;</td></tr><tr><td>&quot;cot.14152&quot;</td><td>&quot;You are an AI …</td><td>&quot;Premise: &quot;Thre…</td><td>&quot;In this scenar…</td><td>&quot;cot&quot;</td></tr><tr><td>&quot;cot.49448&quot;</td><td>&quot;You are an AI …</td><td>&quot;On Friday, Han…</td><td>&quot;Sure! We can b…</td><td>&quot;cot&quot;</td></tr><tr><td>&quot;cot.52924&quot;</td><td>&quot;You are an AI …</td><td>&quot;Liz bought a r…</td><td>&quot;Step 1: Find t…</td><td>&quot;cot&quot;</td></tr><tr><td>&quot;cot.146334&quot;</td><td>&quot;You are an AI …</td><td>&quot;Question. Is t…</td><td>&quot;The statement …</td><td>&quot;cot&quot;</td></tr><tr><td>&quot;cot.127555&quot;</td><td>&quot;You are an AI …</td><td>&quot;Brenda catches…</td><td>&quot;Step 1: Identi…</td><td>&quot;cot&quot;</td></tr><tr><td>&hellip;</td><td>&hellip;</td><td>&hellip;</td><td>&hellip;</td><td>&hellip;</td></tr><tr><td>&quot;t0.367607&quot;</td><td>&quot;You are an AI …</td><td>&quot;Title: A baker…</td><td>&quot;Based on the p…</td><td>&quot;t0&quot;</td></tr><tr><td>&quot;t0.577695&quot;</td><td>&quot;You are an AI …</td><td>&quot;What&#x27;s the ans…</td><td>&quot;The Potomac Ri…</td><td>&quot;t0&quot;</td></tr><tr><td>&quot;t0.1013768&quot;</td><td>&quot;You are an AI …</td><td>&quot;Process: - Fue…</td><td>&quot;If new rules r…</td><td>&quot;t0&quot;</td></tr><tr><td>&quot;t0.846085&quot;</td><td>&quot;You are an AI …</td><td>&quot;This is a corr…</td><td>&quot;No, the given …</td><td>&quot;t0&quot;</td></tr><tr><td>&quot;t0.315858&quot;</td><td>&quot;You are an AI …</td><td>&quot;Facts:   - wei…</td><td>&quot;Evan Cheverie,…</td><td>&quot;t0&quot;</td></tr><tr><td>&quot;t0.1511791&quot;</td><td>&quot;You are an AI …</td><td>&quot;Article: As so…</td><td>&quot;Yes, the answe…</td><td>&quot;t0&quot;</td></tr><tr><td>&quot;t0.254829&quot;</td><td>&quot;You are an AI …</td><td>&quot;I heard that W…</td><td>&quot;After completi…</td><td>&quot;t0&quot;</td></tr><tr><td>&quot;t0.1081987&quot;</td><td>&quot;You are an AI …</td><td>&quot;Given the belo…</td><td>&quot;&quot;The Evolution…</td><td>&quot;t0&quot;</td></tr><tr><td>&quot;t0.871075&quot;</td><td>&quot;You are an AI …</td><td>&quot;Write a multi-…</td><td>&quot;Which object i…</td><td>&quot;t0&quot;</td></tr><tr><td>&quot;t0.918719&quot;</td><td>&quot;&quot;</td><td>&quot;Given the fact…</td><td>&quot;If humans were…</td><td>&quot;t0&quot;</td></tr><tr><td>&quot;t0.1026520&quot;</td><td>&quot;&quot;</td><td>&quot;If glaciers me…</td><td>&quot;- thermal cond…</td><td>&quot;t0&quot;</td></tr><tr><td>&quot;t0.5343&quot;</td><td>&quot;You are an AI …</td><td>&quot;Background: Am…</td><td>&quot;The western In…</td><td>&quot;t0&quot;</td></tr></tbody></table></div>"
      ],
      "text/plain": [
       "shape: (90_000, 5)\n",
       "┌────────────┬─────────────────────┬───────────────────────────┬──────────────────────────┬────────┐\n",
       "│ id         ┆ system_prompt       ┆ question                  ┆ response                 ┆ source │\n",
       "│ ---        ┆ ---                 ┆ ---                       ┆ ---                      ┆ ---    │\n",
       "│ str        ┆ str                 ┆ str                       ┆ str                      ┆ str    │\n",
       "╞════════════╪═════════════════════╪═══════════════════════════╪══════════════════════════╪════════╡\n",
       "│ cot.9768   ┆ You are an AI       ┆ Stream of consciousness   ┆ Question: Can a woman    ┆ cot    │\n",
       "│            ┆ assistant that hel… ┆ rational…                 ┆ walk down …              ┆        │\n",
       "│ cot.119533 ┆ You are an AI       ┆ Premise: \"A man striping  ┆ The premise describes \"a ┆ cot    │\n",
       "│            ┆ assistant that hel… ┆ a parki…                  ┆ man str…                 ┆        │\n",
       "│ cot.54006  ┆ You are an AI       ┆ Leo: Premise: \"At a       ┆ Based on the information ┆ cot    │\n",
       "│            ┆ assistant that hel… ┆ mall.\"                    ┆ provide…                 ┆        │\n",
       "│            ┆                     ┆ Hypot…                    ┆                          ┆        │\n",
       "│ cot.120822 ┆ You are an AI       ┆ Premise: \"A man and a     ┆ The hypothesis states    ┆ cot    │\n",
       "│            ┆ assistant that hel… ┆ woman danc…               ┆ that \"Two …              ┆        │\n",
       "│ …          ┆ …                   ┆ …                         ┆ …                        ┆ …      │\n",
       "│ t0.871075  ┆ You are an AI       ┆ Write a multi-choice      ┆ Which object is located  ┆ t0     │\n",
       "│            ┆ assistant. User wi… ┆ question fo…              ┆ under th…                ┆        │\n",
       "│ t0.918719  ┆                     ┆ Given the fact that:  The ┆ If humans were to eat    ┆ t0     │\n",
       "│            ┆                     ┆ higher…                   ┆ bears, the…              ┆        │\n",
       "│ t0.1026520 ┆                     ┆ If glaciers melt via      ┆ - thermal conduction     ┆ t0     │\n",
       "│            ┆                     ┆ thermal con…              ┆                          ┆        │\n",
       "│ t0.5343    ┆ You are an AI       ┆ Background: Among the     ┆ The western Indian Ocean ┆ t0     │\n",
       "│            ┆ assistant. You wil… ┆ tropical o…               ┆ experie…                 ┆        │\n",
       "└────────────┴─────────────────────┴───────────────────────────┴──────────────────────────┴────────┘"
      ]
     },
     "execution_count": 122,
     "metadata": {},
     "output_type": "execute_result"
    }
   ],
   "source": [
    "def translate_system_prompts(df: pl.DataFrame) -> pl.DataFrame:\n",
    "    unique_sys_prompts = None\n",
    "    return"
   ]
  }
 ],
 "metadata": {
  "kernelspec": {
   "display_name": ".venv",
   "language": "python",
   "name": "python3"
  },
  "language_info": {
   "codemirror_mode": {
    "name": "ipython",
    "version": 3
   },
   "file_extension": ".py",
   "mimetype": "text/x-python",
   "name": "python",
   "nbconvert_exporter": "python",
   "pygments_lexer": "ipython3",
   "version": "3.11.6"
  }
 },
 "nbformat": 4,
 "nbformat_minor": 2
}
