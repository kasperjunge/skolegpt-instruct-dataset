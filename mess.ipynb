{
 "cells": [
  {
   "cell_type": "code",
   "execution_count": 93,
   "metadata": {},
   "outputs": [],
   "source": [
    "%load_ext autoreload"
   ]
  },
  {
   "cell_type": "code",
   "execution_count": 149,
   "metadata": {},
   "outputs": [],
   "source": [
    "import polars as pl\n",
    "from skolegpt_instruct_dataset.utils import sample_and_print_example\n",
    "from skolegpt_instruct_dataset.translate import translate_with_deepl\n",
    "\n",
    "df = pl.read_parquet(\"./data/stratified_dataset.parquet\")"
   ]
  },
  {
   "cell_type": "code",
   "execution_count": 157,
   "metadata": {},
   "outputs": [],
   "source": [
    "df_sub = df.sample(1)"
   ]
  },
  {
   "cell_type": "code",
   "execution_count": 161,
   "metadata": {},
   "outputs": [
    {
     "data": {
      "text/html": [
       "<div><style>\n",
       ".dataframe > thead > tr,\n",
       ".dataframe > tbody > tr {\n",
       "  text-align: right;\n",
       "  white-space: pre-wrap;\n",
       "}\n",
       "</style>\n",
       "<small>shape: (1, 5)</small><table border=\"1\" class=\"dataframe\"><thead><tr><th>id</th><th>system_prompt</th><th>question</th><th>response</th><th>source</th></tr><tr><td>str</td><td>str</td><td>str</td><td>str</td><td>str</td></tr></thead><tbody><tr><td>&quot;t0.1232478&quot;</td><td>&quot;You are an AI …</td><td>&quot;Please answer …</td><td>&quot;In the movie &quot;…</td><td>&quot;t0&quot;</td></tr></tbody></table></div>"
      ],
      "text/plain": [
       "shape: (1, 5)\n",
       "┌────────────┬─────────────────────┬───────────────────┬───────────────────────────┬────────┐\n",
       "│ id         ┆ system_prompt       ┆ question          ┆ response                  ┆ source │\n",
       "│ ---        ┆ ---                 ┆ ---               ┆ ---                       ┆ ---    │\n",
       "│ str        ┆ str                 ┆ str               ┆ str                       ┆ str    │\n",
       "╞════════════╪═════════════════════╪═══════════════════╪═══════════════════════════╪════════╡\n",
       "│ t0.1232478 ┆ You are an AI       ┆ Please answer the ┆ In the movie \"The Mummy's ┆ t0     │\n",
       "│            ┆ assistant. You wil… ┆ following ques…   ┆ Ghost,…                   ┆        │\n",
       "└────────────┴─────────────────────┴───────────────────┴───────────────────────────┴────────┘"
      ]
     },
     "execution_count": 161,
     "metadata": {},
     "output_type": "execute_result"
    }
   ],
   "source": [
    "from tqdm import tqdm\n",
    "tqdm.pandas()\n",
    "\n",
    "def translate_dataset(df: pl.DataFrame) -> pl.DataFrame:\n",
    "    \n",
    "    df = df.to_pandas()\n",
    "    \n",
    "    target_lang = \"DA\"  # For example, translating to German\n",
    "\n",
    "    # Function to apply translation to a single column\n",
    "    def translate_column(column):\n",
    "        return column.map_elements(lambda x: translate_with_deepl(x, target_lang))\n",
    "\n",
    "    # Apply the translation to the specified columns\n",
    "    for col in [\"system_prompt\", \"question\", \"response\"]:\n",
    "        df[col] = df[col].progress_apply(lambda x: translate_with_deepl(x, target_lang))\n",
    "\n",
    "    df = pl.from_pandas(df)        \n",
    "\n",
    "    return df\n",
    "\n",
    "translate_dataset(df_sub)\n"
   ]
  },
  {
   "cell_type": "code",
   "execution_count": 151,
   "metadata": {},
   "outputs": [
    {
     "data": {
      "text/html": [
       "<div><style>\n",
       ".dataframe > thead > tr,\n",
       ".dataframe > tbody > tr {\n",
       "  text-align: right;\n",
       "  white-space: pre-wrap;\n",
       "}\n",
       "</style>\n",
       "<small>shape: (20, 5)</small><table border=\"1\" class=\"dataframe\"><thead><tr><th>id</th><th>system_prompt</th><th>question</th><th>response</th><th>source</th></tr><tr><td>str</td><td>str</td><td>str</td><td>str</td><td>str</td></tr></thead><tbody><tr><td>&quot;niv.318648&quot;</td><td>&quot;User will you …</td><td>&quot;In this task y…</td><td>&quot;To remove all …</td><td>&quot;niv&quot;</td></tr><tr><td>&quot;flan.2153862&quot;</td><td>&quot;You are an AI …</td><td>&quot;Answer the que…</td><td>&quot;When the speak…</td><td>&quot;flan&quot;</td></tr><tr><td>&quot;flan.1910888&quot;</td><td>&quot;You are an AI …</td><td>&quot;Callimaco is t…</td><td>&quot;No, the answer…</td><td>&quot;flan&quot;</td></tr><tr><td>&quot;niv.279085&quot;</td><td>&quot;You are an AI …</td><td>&quot;You will be gi…</td><td>&quot;Incorrect answ…</td><td>&quot;niv&quot;</td></tr><tr><td>&quot;cot.36088&quot;</td><td>&quot;You are an AI …</td><td>&quot;Stream of cons…</td><td>&quot;Question: Whic…</td><td>&quot;cot&quot;</td></tr><tr><td>&quot;t0.1362540&quot;</td><td>&quot;You are an AI …</td><td>&quot;I know that th…</td><td>&quot;Insects want t…</td><td>&quot;t0&quot;</td></tr><tr><td>&quot;t0.160725&quot;</td><td>&quot;You are an AI …</td><td>&quot;Regular reader…</td><td>&quot;100ml&quot;</td><td>&quot;t0&quot;</td></tr><tr><td>&quot;t0.202155&quot;</td><td>&quot;&quot;</td><td>&quot;Ricardo &quot;Ricky…</td><td>&quot;Jarrett Jack&quot;</td><td>&quot;t0&quot;</td></tr><tr><td>&quot;niv.274908&quot;</td><td>&quot;Given a defini…</td><td>&quot;You will be gi…</td><td>&quot;Part #1: Given…</td><td>&quot;niv&quot;</td></tr><tr><td>&quot;cot.131798&quot;</td><td>&quot;You are an AI …</td><td>&quot;Please answer …</td><td>&quot;Step 1: Identi…</td><td>&quot;cot&quot;</td></tr><tr><td>&quot;cot.79145&quot;</td><td>&quot;You are an AI …</td><td>&quot;My question is…</td><td>&quot;Let&#x27;s break do…</td><td>&quot;cot&quot;</td></tr><tr><td>&quot;cot.91331&quot;</td><td>&quot;You are an AI …</td><td>&quot;Would an astro…</td><td>&quot;An astrologer …</td><td>&quot;cot&quot;</td></tr><tr><td>&quot;cot.64687&quot;</td><td>&quot;You are an AI …</td><td>&quot;My question is…</td><td>&quot;To find out ho…</td><td>&quot;cot&quot;</td></tr><tr><td>&quot;cot.65080&quot;</td><td>&quot;You are an AI …</td><td>&quot;Could Goofy ha…</td><td>&quot;Given that Goo…</td><td>&quot;cot&quot;</td></tr><tr><td>&quot;cot.24127&quot;</td><td>&quot;You are an AI …</td><td>&quot;Reconstruct a …</td><td>&quot;Question: How …</td><td>&quot;cot&quot;</td></tr><tr><td>&quot;flan.1919289&quot;</td><td>&quot;You are a help…</td><td>&quot;Dylan: hey bro…</td><td>&quot;Dylan asked He…</td><td>&quot;flan&quot;</td></tr><tr><td>&quot;niv.263965&quot;</td><td>&quot;You are an AI …</td><td>&quot;You will be gi…</td><td>&quot;The task requi…</td><td>&quot;niv&quot;</td></tr><tr><td>&quot;niv.339620&quot;</td><td>&quot;You are a teac…</td><td>&quot;In this task, …</td><td>&quot;In this task, …</td><td>&quot;niv&quot;</td></tr><tr><td>&quot;t0.1520943&quot;</td><td>&quot;You are an AI …</td><td>&quot;Extract the an…</td><td>&quot;Can&#x27;t answer.&quot;</td><td>&quot;t0&quot;</td></tr><tr><td>&quot;flan.1142404&quot;</td><td>&quot;You are an AI …</td><td>&quot;Write a tweet …</td><td>&quot;Step 1: Identi…</td><td>&quot;flan&quot;</td></tr></tbody></table></div>"
      ],
      "text/plain": [
       "shape: (20, 5)\n",
       "┌──────────────┬────────────────────────┬────────────────────────┬────────────────────────┬────────┐\n",
       "│ id           ┆ system_prompt          ┆ question               ┆ response               ┆ source │\n",
       "│ ---          ┆ ---                    ┆ ---                    ┆ ---                    ┆ ---    │\n",
       "│ str          ┆ str                    ┆ str                    ┆ str                    ┆ str    │\n",
       "╞══════════════╪════════════════════════╪════════════════════════╪════════════════════════╪════════╡\n",
       "│ niv.318648   ┆ User will you give you ┆ In this task you will  ┆ To remove all vowels   ┆ niv    │\n",
       "│              ┆ a task wi…             ┆ be given a…            ┆ from the gi…           ┆        │\n",
       "│ flan.2153862 ┆ You are an AI          ┆ Answer the question    ┆ When the speaker's     ┆ flan   │\n",
       "│              ┆ assistant. You wil…    ┆ about text:            ┆ mother says \"…         ┆        │\n",
       "│              ┆                        ┆ …                      ┆                        ┆        │\n",
       "│ flan.1910888 ┆ You are an AI          ┆ Callimaco is taken by  ┆ No, the answer is      ┆ flan   │\n",
       "│              ┆ assistant. User wi…    ┆ the beauty…            ┆ incorrect.             ┆        │\n",
       "│              ┆                        ┆                        ┆                        ┆        │\n",
       "│              ┆                        ┆                        ┆ T…                     ┆        │\n",
       "│ niv.279085   ┆ You are an AI          ┆ You will be given a    ┆ Incorrect answer: The  ┆ niv    │\n",
       "│              ┆ assistant, who kno…    ┆ definition o…          ┆ NLAP bough…            ┆        │\n",
       "│ …            ┆ …                      ┆ …                      ┆ …                      ┆ …      │\n",
       "│ niv.263965   ┆ You are an AI          ┆ You will be given a    ┆ The task requires      ┆ niv    │\n",
       "│              ┆ assistant. Provide…    ┆ definition o…          ┆ creating all t…        ┆        │\n",
       "│ niv.339620   ┆ You are a teacher.     ┆ In this task, you are  ┆ In this task, you are  ┆ niv    │\n",
       "│              ┆ Given a task,…         ┆ given two …            ┆ asked to a…            ┆        │\n",
       "│ t0.1520943   ┆ You are an AI          ┆ Extract the answer to  ┆ Can't answer.          ┆ t0     │\n",
       "│              ┆ assistant. Provide…    ┆ the follow…            ┆                        ┆        │\n",
       "│ flan.1142404 ┆ You are an AI          ┆ Write a tweet that is  ┆ Step 1: Identify the   ┆ flan   │\n",
       "│              ┆ assistant. User wi…    ┆ positive.              ┆ purpose of …           ┆        │\n",
       "└──────────────┴────────────────────────┴────────────────────────┴────────────────────────┴────────┘"
      ]
     },
     "execution_count": 151,
     "metadata": {},
     "output_type": "execute_result"
    }
   ],
   "source": [
    "df_sub"
   ]
  },
  {
   "cell_type": "code",
   "execution_count": 44,
   "metadata": {},
   "outputs": [
    {
     "name": "stdout",
     "output_type": "stream",
     "text": [
      "ID\n",
      "niv.231718\n",
      "\n",
      "SYSTEM PROMPT:\n",
      "\n",
      "User will you give you a task with some instruction. Your job is\n",
      "follow the instructions as faithfully as you can. While answering\n",
      "think step-by-step and justify your answer.\n",
      "\n",
      "QUESTION:\n",
      "\n",
      "You will be given a definition of a task first, then some input of the\n",
      "task. In this task, find the most appropriate number to replace the\n",
      "blank (indicated with _ ) and express it in words.  Buttercups can\n",
      "grow up to one to _ feet tall and can be about an inch across.\n",
      "\n",
      "RESPONSE:\n",
      "\n",
      "In order to find the most appropriate number to replace the blank,\n",
      "let's look at the context of the sentence. We are given information\n",
      "about Buttercups, including their height and size.  Since the height\n",
      "is described in feet and the size in inches, it would be reasonable to\n",
      "use a number within a typical range for the height of a plant. Let's\n",
      "consider a number between 1 and 10 feet as this would be a reasonable\n",
      "range for the height of Buttercups.  It's important to note that there\n",
      "is no actual correct answer in this case, as the height of a plant can\n",
      "vary. However, we can make an educated guess based on the information\n",
      "provided in the sentence. Given that it says \"one to _ feet tall,\" we\n",
      "can assume that the maximum height is more than 1 foot but probably\n",
      "not too much more.   Therefore, I would choose 3 as an appropriate\n",
      "number to fill in the blank, making the sentence:  Buttercups can grow\n",
      "up to one to three feet tall and can be about an inch across.  Output:\n",
      "three\n"
     ]
    },
    {
     "data": {
      "text/html": [
       "<div><style>\n",
       ".dataframe > thead > tr,\n",
       ".dataframe > tbody > tr {\n",
       "  text-align: right;\n",
       "  white-space: pre-wrap;\n",
       "}\n",
       "</style>\n",
       "<small>shape: (1, 5)</small><table border=\"1\" class=\"dataframe\"><thead><tr><th>id</th><th>system_prompt</th><th>question</th><th>response</th><th>source</th></tr><tr><td>str</td><td>str</td><td>str</td><td>str</td><td>str</td></tr></thead><tbody><tr><td>&quot;niv.231718&quot;</td><td>&quot;User will you …</td><td>&quot;You will be gi…</td><td>&quot;In order to fi…</td><td>&quot;niv&quot;</td></tr></tbody></table></div>"
      ],
      "text/plain": [
       "shape: (1, 5)\n",
       "┌────────────┬───────────────────────────────┬─────────────────────┬──────────────────────┬────────┐\n",
       "│ id         ┆ system_prompt                 ┆ question            ┆ response             ┆ source │\n",
       "│ ---        ┆ ---                           ┆ ---                 ┆ ---                  ┆ ---    │\n",
       "│ str        ┆ str                           ┆ str                 ┆ str                  ┆ str    │\n",
       "╞════════════╪═══════════════════════════════╪═════════════════════╪══════════════════════╪════════╡\n",
       "│ niv.231718 ┆ User will you give you a task ┆ You will be given a ┆ In order to find the ┆ niv    │\n",
       "│            ┆ wi…                           ┆ definition o…       ┆ most approp…         ┆        │\n",
       "└────────────┴───────────────────────────────┴─────────────────────┴──────────────────────┴────────┘"
      ]
     },
     "execution_count": 44,
     "metadata": {},
     "output_type": "execute_result"
    }
   ],
   "source": [
    "\n",
    "sample_and_print_example(df)"
   ]
  },
  {
   "cell_type": "code",
   "execution_count": 87,
   "metadata": {},
   "outputs": [],
   "source": [
    "df_raw = pl.read_parquet(\"./data/sampled_dataset.parquet\")"
   ]
  },
  {
   "cell_type": "code",
   "execution_count": 152,
   "metadata": {},
   "outputs": [
    {
     "name": "stdout",
     "output_type": "stream",
     "text": [
      "ID\n",
      "t0.595983\n",
      "\n",
      "SYSTEM PROMPT:\n",
      "\n",
      "You are an AI assistant. Provide a detailed answer so user don’t need\n",
      "to search outside to understand the answer.\n",
      "\n",
      "QUESTION:\n",
      "\n",
      "Question: Information:  - In elementary geometry, a polytope is a\n",
      "geometric object with flat sides, and may exist in any general number\n",
      "of dimensions \"n\" as an \"n\"-dimensional polytope or \"n\"-polytope. For\n",
      "example, a two-dimensional polygon is a 2-polytope and a three-\n",
      "dimensional polyhedron is a 3-polytope.  - In computer science,\n",
      "program optimization or software optimization is the process of\n",
      "modifying a software system to make some aspect of it work more\n",
      "efficiently or use fewer resources. In general, a computer program may\n",
      "be optimized so that it executes more rapidly, or is capable of\n",
      "operating with less memory storage or other resources, or draw less\n",
      "power.  - In computer science and particularly in compiler design,\n",
      "loop nest optimization (LNO) is an optimization technique that applies\n",
      "a set of loop transformations for the purpose of locality optimization\n",
      "or parallelization or other loop overhead reduction of the loop nests.\n",
      "One classical usage is to reduce memory access latency or the cache\n",
      "bandwidth necessary due to cache reuse for some common linear algebra\n",
      "algorithms.  - The polyhedral model ( also called the polytope method\n",
      ") is a mathematical framework for loop nest optimization in program\n",
      "optimization . The polytope method treats each loop iteration within\n",
      "nested loops as lattice points inside mathematical objects called\n",
      "polytopes , performs affine transformations or more general non-affine\n",
      "transformations such as tiling on the polytopes , and then converts\n",
      "the transformed polytopes into equivalent , but optimized ( depending\n",
      "on targeted optimization goal ) , loop nests through polyhedra\n",
      "scanning .  - The Multinational Aircrew Electronic Warfare Tactics\n",
      "Facility Polygone - POLYGON is an Electronic Warfare Tactics Range\n",
      "located on the border between Germany and France. It is a tri-national\n",
      "facility operated by France, Germany and the United States.  - In\n",
      "mathematics and computer science, an algorithm is a self-contained\n",
      "sequence of actions to be performed. Algorithms perform calculation,\n",
      "data processing, and/or automated reasoning tasks.  - Geometry (from\n",
      "the ; \"geo-\" \"earth\", \"-metron\" \"measurement\") is a branch of\n",
      "mathematics concerned with questions of shape, size, relative position\n",
      "of figures, and the properties of space. A mathematician who works in\n",
      "the field of geometry is called a geometer.  - Computer science is the\n",
      "study of the theory, experimentation, and engineering that form the\n",
      "basis for the design and use of computers. It is the scientific and\n",
      "practical approach to computation and its applications and the\n",
      "systematic study of the feasibility, structure, expression, and\n",
      "mechanization of the methodical procedures (or algorithms) that\n",
      "underlie the acquisition, representation, processing, storage,\n",
      "communication of, and access to information. An alternate, more\n",
      "succinct definition of computer science is the study of automating\n",
      "algorithmic processes that scale. A computer scientist specializes in\n",
      "the theory of computation and the design of computational systems.  -\n",
      "In elementary geometry, a polyhedron (plural polyhedra or polyhedrons)\n",
      "is a solid in three dimensions with flat polygonal faces, straight\n",
      "edges and sharp corners or vertices. The word polyhedron comes from\n",
      "the Classical Greek , as \"poly-\" (stem of , \"many\") + \"-hedron\" (form\n",
      "of , \"base\" or \"seat\").  - A computer program is a collection of\n",
      "instructions that performs a specific task when executed by a\n",
      "computer. A computer requires programs to function, and typically\n",
      "executes the program's instructions in a central processing unit.  - A\n",
      "compiler is a computer program (or a set of programs) that transforms\n",
      "source code written in a programming language (the source language)\n",
      "into another computer language (the target language), with the latter\n",
      "often having a binary form known as object code. The most common\n",
      "reason for converting source code is to create an executable program.\n",
      "What entity does 'polytope model' has the relation 'subclass of' with?\n",
      "Answer:\n",
      "\n",
      "RESPONSE:\n",
      "\n",
      "The polytope model has a relation of \"subclass of\" with program\n",
      "optimization in computer science. Specifically, the polytope model is\n",
      "a mathematical framework for loop nest optimization in program\n",
      "optimization. It treats each loop iteration within nested loops as\n",
      "lattice points inside mathematical objects called polytopes, performs\n",
      "affine transformations or more general non-affine transformations such\n",
      "as tiling on the polytopes, and then converts the transformed\n",
      "polytopes into equivalent, but optimized (depending on targeted\n",
      "optimization goal), loop nests through polyhedra scanning.\n"
     ]
    },
    {
     "data": {
      "text/html": [
       "<div><style>\n",
       ".dataframe > thead > tr,\n",
       ".dataframe > tbody > tr {\n",
       "  text-align: right;\n",
       "  white-space: pre-wrap;\n",
       "}\n",
       "</style>\n",
       "<small>shape: (1, 5)</small><table border=\"1\" class=\"dataframe\"><thead><tr><th>id</th><th>system_prompt</th><th>question</th><th>response</th><th>source</th></tr><tr><td>str</td><td>str</td><td>str</td><td>str</td><td>str</td></tr></thead><tbody><tr><td>&quot;t0.595983&quot;</td><td>&quot;You are an AI …</td><td>&quot;Question: Info…</td><td>&quot;The polytope m…</td><td>&quot;t0&quot;</td></tr></tbody></table></div>"
      ],
      "text/plain": [
       "shape: (1, 5)\n",
       "┌───────────┬─────────────────────┬───────────────────────────┬───────────────────────────┬────────┐\n",
       "│ id        ┆ system_prompt       ┆ question                  ┆ response                  ┆ source │\n",
       "│ ---       ┆ ---                 ┆ ---                       ┆ ---                       ┆ ---    │\n",
       "│ str       ┆ str                 ┆ str                       ┆ str                       ┆ str    │\n",
       "╞═══════════╪═════════════════════╪═══════════════════════════╪═══════════════════════════╪════════╡\n",
       "│ t0.595983 ┆ You are an AI       ┆ Question: Information:  - ┆ The polytope model has a  ┆ t0     │\n",
       "│           ┆ assistant. Provide… ┆ In ele…                   ┆ relatio…                  ┆        │\n",
       "└───────────┴─────────────────────┴───────────────────────────┴───────────────────────────┴────────┘"
      ]
     },
     "execution_count": 152,
     "metadata": {},
     "output_type": "execute_result"
    }
   ],
   "source": [
    "from "
   ]
  }
 ],
 "metadata": {
  "kernelspec": {
   "display_name": ".venv",
   "language": "python",
   "name": "python3"
  },
  "language_info": {
   "codemirror_mode": {
    "name": "ipython",
    "version": 3
   },
   "file_extension": ".py",
   "mimetype": "text/x-python",
   "name": "python",
   "nbconvert_exporter": "python",
   "pygments_lexer": "ipython3",
   "version": "3.11.6"
  }
 },
 "nbformat": 4,
 "nbformat_minor": 2
}
