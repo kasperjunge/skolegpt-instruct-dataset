{
 "cells": [
  {
   "cell_type": "code",
   "execution_count": 2,
   "metadata": {},
   "outputs": [],
   "source": [
    "import polars as pl\n",
    "from skolegpt_instruct_dataset.utils import return_filter_char_list\n",
    "\n",
    "\n",
    "df = pl.read_parquet(\"./data/filtered_dataset.parquet\")"
   ]
  },
  {
   "cell_type": "code",
   "execution_count": 86,
   "metadata": {},
   "outputs": [
    {
     "name": "stdout",
     "output_type": "stream",
     "text": [
      "ID\n",
      "cot.52598\n",
      "\n",
      "SYSTEM PROMPT:\n",
      "\n",
      "You are an AI assistant that helps people find information.\n",
      "\n",
      "QUESTION:\n",
      "\n",
      "Written and performed by Ben Gibbard, it is an acoustic solo ballad,\n",
      "and was recorded in monaural with a single microphone and little\n",
      "editing.  Based on this passage, who wrote i will follow you into the\n",
      "dark? Let's think fast.\n",
      "\n",
      "RESPONSE:\n",
      "\n",
      "Ben Gibbard wrote \"I Will Follow You Into the Dark\".\n"
     ]
    },
    {
     "data": {
      "text/html": [
       "<div><style>\n",
       ".dataframe > thead > tr,\n",
       ".dataframe > tbody > tr {\n",
       "  text-align: right;\n",
       "  white-space: pre-wrap;\n",
       "}\n",
       "</style>\n",
       "<small>shape: (1, 5)</small><table border=\"1\" class=\"dataframe\"><thead><tr><th>id</th><th>system_prompt</th><th>question</th><th>response</th><th>source</th></tr><tr><td>str</td><td>str</td><td>str</td><td>str</td><td>str</td></tr></thead><tbody><tr><td>&quot;cot.52598&quot;</td><td>&quot;You are an AI …</td><td>&quot;Written and pe…</td><td>&quot;Ben Gibbard wr…</td><td>&quot;cot&quot;</td></tr></tbody></table></div>"
      ],
      "text/plain": [
       "shape: (1, 5)\n",
       "┌───────────┬───────────────────────────┬──────────────────────────┬──────────────────────┬────────┐\n",
       "│ id        ┆ system_prompt             ┆ question                 ┆ response             ┆ source │\n",
       "│ ---       ┆ ---                       ┆ ---                      ┆ ---                  ┆ ---    │\n",
       "│ str       ┆ str                       ┆ str                      ┆ str                  ┆ str    │\n",
       "╞═══════════╪═══════════════════════════╪══════════════════════════╪══════════════════════╪════════╡\n",
       "│ cot.52598 ┆ You are an AI assistant   ┆ Written and performed by ┆ Ben Gibbard wrote \"I ┆ cot    │\n",
       "│           ┆ that hel…                 ┆ Ben Gib…                 ┆ Will Follow…         ┆        │\n",
       "└───────────┴───────────────────────────┴──────────────────────────┴──────────────────────┴────────┘"
      ]
     },
     "execution_count": 86,
     "metadata": {},
     "output_type": "execute_result"
    }
   ],
   "source": [
    "from skolegpt_instruct_dataset.utils import sample_and_print_example\n",
    "\n",
    "sample_and_print_example(df)"
   ]
  },
  {
   "cell_type": "code",
   "execution_count": 87,
   "metadata": {},
   "outputs": [],
   "source": [
    "df_raw = pl.read_parquet(\"./data/sampled_dataset.parquet\")"
   ]
  },
  {
   "cell_type": "code",
   "execution_count": 152,
   "metadata": {},
   "outputs": [
    {
     "name": "stdout",
     "output_type": "stream",
     "text": [
      "ID\n",
      "t0.595983\n",
      "\n",
      "SYSTEM PROMPT:\n",
      "\n",
      "You are an AI assistant. Provide a detailed answer so user don’t need\n",
      "to search outside to understand the answer.\n",
      "\n",
      "QUESTION:\n",
      "\n",
      "Question: Information:  - In elementary geometry, a polytope is a\n",
      "geometric object with flat sides, and may exist in any general number\n",
      "of dimensions \"n\" as an \"n\"-dimensional polytope or \"n\"-polytope. For\n",
      "example, a two-dimensional polygon is a 2-polytope and a three-\n",
      "dimensional polyhedron is a 3-polytope.  - In computer science,\n",
      "program optimization or software optimization is the process of\n",
      "modifying a software system to make some aspect of it work more\n",
      "efficiently or use fewer resources. In general, a computer program may\n",
      "be optimized so that it executes more rapidly, or is capable of\n",
      "operating with less memory storage or other resources, or draw less\n",
      "power.  - In computer science and particularly in compiler design,\n",
      "loop nest optimization (LNO) is an optimization technique that applies\n",
      "a set of loop transformations for the purpose of locality optimization\n",
      "or parallelization or other loop overhead reduction of the loop nests.\n",
      "One classical usage is to reduce memory access latency or the cache\n",
      "bandwidth necessary due to cache reuse for some common linear algebra\n",
      "algorithms.  - The polyhedral model ( also called the polytope method\n",
      ") is a mathematical framework for loop nest optimization in program\n",
      "optimization . The polytope method treats each loop iteration within\n",
      "nested loops as lattice points inside mathematical objects called\n",
      "polytopes , performs affine transformations or more general non-affine\n",
      "transformations such as tiling on the polytopes , and then converts\n",
      "the transformed polytopes into equivalent , but optimized ( depending\n",
      "on targeted optimization goal ) , loop nests through polyhedra\n",
      "scanning .  - The Multinational Aircrew Electronic Warfare Tactics\n",
      "Facility Polygone - POLYGON is an Electronic Warfare Tactics Range\n",
      "located on the border between Germany and France. It is a tri-national\n",
      "facility operated by France, Germany and the United States.  - In\n",
      "mathematics and computer science, an algorithm is a self-contained\n",
      "sequence of actions to be performed. Algorithms perform calculation,\n",
      "data processing, and/or automated reasoning tasks.  - Geometry (from\n",
      "the ; \"geo-\" \"earth\", \"-metron\" \"measurement\") is a branch of\n",
      "mathematics concerned with questions of shape, size, relative position\n",
      "of figures, and the properties of space. A mathematician who works in\n",
      "the field of geometry is called a geometer.  - Computer science is the\n",
      "study of the theory, experimentation, and engineering that form the\n",
      "basis for the design and use of computers. It is the scientific and\n",
      "practical approach to computation and its applications and the\n",
      "systematic study of the feasibility, structure, expression, and\n",
      "mechanization of the methodical procedures (or algorithms) that\n",
      "underlie the acquisition, representation, processing, storage,\n",
      "communication of, and access to information. An alternate, more\n",
      "succinct definition of computer science is the study of automating\n",
      "algorithmic processes that scale. A computer scientist specializes in\n",
      "the theory of computation and the design of computational systems.  -\n",
      "In elementary geometry, a polyhedron (plural polyhedra or polyhedrons)\n",
      "is a solid in three dimensions with flat polygonal faces, straight\n",
      "edges and sharp corners or vertices. The word polyhedron comes from\n",
      "the Classical Greek , as \"poly-\" (stem of , \"many\") + \"-hedron\" (form\n",
      "of , \"base\" or \"seat\").  - A computer program is a collection of\n",
      "instructions that performs a specific task when executed by a\n",
      "computer. A computer requires programs to function, and typically\n",
      "executes the program's instructions in a central processing unit.  - A\n",
      "compiler is a computer program (or a set of programs) that transforms\n",
      "source code written in a programming language (the source language)\n",
      "into another computer language (the target language), with the latter\n",
      "often having a binary form known as object code. The most common\n",
      "reason for converting source code is to create an executable program.\n",
      "What entity does 'polytope model' has the relation 'subclass of' with?\n",
      "Answer:\n",
      "\n",
      "RESPONSE:\n",
      "\n",
      "The polytope model has a relation of \"subclass of\" with program\n",
      "optimization in computer science. Specifically, the polytope model is\n",
      "a mathematical framework for loop nest optimization in program\n",
      "optimization. It treats each loop iteration within nested loops as\n",
      "lattice points inside mathematical objects called polytopes, performs\n",
      "affine transformations or more general non-affine transformations such\n",
      "as tiling on the polytopes, and then converts the transformed\n",
      "polytopes into equivalent, but optimized (depending on targeted\n",
      "optimization goal), loop nests through polyhedra scanning.\n"
     ]
    },
    {
     "data": {
      "text/html": [
       "<div><style>\n",
       ".dataframe > thead > tr,\n",
       ".dataframe > tbody > tr {\n",
       "  text-align: right;\n",
       "  white-space: pre-wrap;\n",
       "}\n",
       "</style>\n",
       "<small>shape: (1, 5)</small><table border=\"1\" class=\"dataframe\"><thead><tr><th>id</th><th>system_prompt</th><th>question</th><th>response</th><th>source</th></tr><tr><td>str</td><td>str</td><td>str</td><td>str</td><td>str</td></tr></thead><tbody><tr><td>&quot;t0.595983&quot;</td><td>&quot;You are an AI …</td><td>&quot;Question: Info…</td><td>&quot;The polytope m…</td><td>&quot;t0&quot;</td></tr></tbody></table></div>"
      ],
      "text/plain": [
       "shape: (1, 5)\n",
       "┌───────────┬─────────────────────┬───────────────────────────┬───────────────────────────┬────────┐\n",
       "│ id        ┆ system_prompt       ┆ question                  ┆ response                  ┆ source │\n",
       "│ ---       ┆ ---                 ┆ ---                       ┆ ---                       ┆ ---    │\n",
       "│ str       ┆ str                 ┆ str                       ┆ str                       ┆ str    │\n",
       "╞═══════════╪═════════════════════╪═══════════════════════════╪═══════════════════════════╪════════╡\n",
       "│ t0.595983 ┆ You are an AI       ┆ Question: Information:  - ┆ The polytope model has a  ┆ t0     │\n",
       "│           ┆ assistant. Provide… ┆ In ele…                   ┆ relatio…                  ┆        │\n",
       "└───────────┴─────────────────────┴───────────────────────────┴───────────────────────────┴────────┘"
      ]
     },
     "execution_count": 152,
     "metadata": {},
     "output_type": "execute_result"
    }
   ],
   "source": [
    "sample_and_print_example(df_raw)"
   ]
  }
 ],
 "metadata": {
  "kernelspec": {
   "display_name": ".venv",
   "language": "python",
   "name": "python3"
  },
  "language_info": {
   "codemirror_mode": {
    "name": "ipython",
    "version": 3
   },
   "file_extension": ".py",
   "mimetype": "text/x-python",
   "name": "python",
   "nbconvert_exporter": "python",
   "pygments_lexer": "ipython3",
   "version": "3.11.6"
  }
 },
 "nbformat": 4,
 "nbformat_minor": 2
}
